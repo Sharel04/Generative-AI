{
  "nbformat": 4,
  "nbformat_minor": 0,
  "metadata": {
    "colab": {
      "provenance": []
    },
    "kernelspec": {
      "name": "python3",
      "display_name": "Python 3"
    },
    "language_info": {
      "name": "python"
    }
  },
  "cells": [
    {
      "cell_type": "code",
      "execution_count": null,
      "metadata": {
        "id": "F6I2_QqSK30S"
      },
      "outputs": [],
      "source": [
        "import gradio as gr\n",
        "import openai"
      ]
    },
    {
      "cell_type": "code",
      "source": [
        "openai.api_key = \"YOUR_API_KEY\""
      ],
      "metadata": {
        "id": "RYV4fF_1K_Vt"
      },
      "execution_count": null,
      "outputs": []
    },
    {
      "cell_type": "code",
      "source": [
        "def chatgpt_api(input_text):\n",
        "    messages = [\n",
        "        {\"role\": \"system\", \"content\": \"You are a helpful assistant.\"},\n",
        "        {\"role\": \"user\", \"content\": input_text}\n",
        "    ]\n",
        "\n",
        "    chat_completion = openai.ChatCompletion.create(\n",
        "        model=\"gpt-3.5-turbo\", messages=messages\n",
        "    )\n",
        "\n",
        "    reply = chat_completion.choices[0].message.content\n",
        "    return reply"
      ],
      "metadata": {
        "id": "P-l9BYtULDZY"
      },
      "execution_count": null,
      "outputs": []
    },
    {
      "cell_type": "code",
      "source": [
        "def dall_e_api(dalle_prompt):\n",
        "    dalle_response = openai.Image.create(\n",
        "        prompt=dalle_prompt,\n",
        "        size=\"512x512\"\n",
        "    )\n",
        "    image_url = dalle_response['data'][0]['url']\n",
        "    return image_url"
      ],
      "metadata": {
        "id": "fk_dyGE_LEL9"
      },
      "execution_count": null,
      "outputs": []
    },
    {
      "cell_type": "code",
      "source": [
        "def generate_image(input_text):\n",
        "    dalle_prompt = chatgpt_api(input_text)\n",
        "    image_url = dall_e_api(dalle_prompt)\n",
        "    return image_url"
      ],
      "metadata": {
        "id": "7XGJg19FLIgd"
      },
      "execution_count": null,
      "outputs": []
    },
    {
      "cell_type": "code",
      "source": [
        "input_text = gr.inputs.Textbox(label=\"Input Text\")\n",
        "output_image = gr.outputs.Image(type=\"pil\", label=\"Generated Image\")"
      ],
      "metadata": {
        "id": "M3zD2XGVLL2r"
      },
      "execution_count": null,
      "outputs": []
    },
    {
      "cell_type": "code",
      "source": [
        "image_generation_interface = gr.Interface(\n",
        "    fn=generate_image,\n",
        "    inputs=input_text,\n",
        "    outputs=output_image,\n",
        "    title=\"Text to Image Generation\",\n",
        "    description=\"Enter a text prompt and generate an image based on the prompt.\",\n",
        "    examples=[\n",
        "        [\"A peaceful beach with turquoise waters and palm trees swaying in the breeze.\"],\n",
        "        [\"A bustling city street at night adorned with vibrant neon signs and busy pedestrians.\"],\n",
        "        [\"A cuddly puppy gleefully pouncing on a squeaky toy\"]\n",
        "    ]\n",
        ")"
      ],
      "metadata": {
        "id": "Uu9RQAiKLTEa"
      },
      "execution_count": null,
      "outputs": []
    },
    {
      "cell_type": "code",
      "source": [
        "image_generation_interface.launch(debug=True)"
      ],
      "metadata": {
        "id": "o2ow7FCDLXg8"
      },
      "execution_count": null,
      "outputs": []
    }
  ]
}